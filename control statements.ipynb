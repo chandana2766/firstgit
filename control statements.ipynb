{
 "cells": [
  {
   "cell_type": "markdown",
   "metadata": {},
   "source": [
    "# control statements:\n",
    "### - if Statement\n",
    "### - if...else statement\n",
    "### - if...elif...else statement\n",
    "### - while loop\n",
    "### - for loop\n",
    "### - else suite\n",
    "### - break statement\n",
    "### - continue statement\n",
    "### - pass statement\n",
    "### - assert statement\n",
    "### - return statement"
   ]
  },
  {
   "cell_type": "markdown",
   "metadata": {},
   "source": [
    "# if statement:\n",
    "- syntax:\n",
    "\n",
    "      if condition:\n",
    "         statements"
   ]
  },
  {
   "cell_type": "code",
   "execution_count": 1,
   "metadata": {},
   "outputs": [
    {
     "name": "stdout",
     "output_type": "stream",
     "text": [
      "number is 10\n"
     ]
    }
   ],
   "source": [
    "x = 10\n",
    "if x==10:\n",
    "    print('number is 10')"
   ]
  },
  {
   "cell_type": "markdown",
   "metadata": {},
   "source": [
    "# if else statement:\n",
    "syntax:\n",
    "\n",
    "   if condition:\n",
    "   \n",
    "       statements1\n",
    "       \n",
    "   else:\n",
    "   \n",
    "       statements2"
   ]
  },
  {
   "cell_type": "code",
   "execution_count": 2,
   "metadata": {},
   "outputs": [
    {
     "name": "stdout",
     "output_type": "stream",
     "text": [
      "number is even number\n"
     ]
    }
   ],
   "source": [
    "x = 10\n",
    "if x%2==0:\n",
    "    print('number is even number')\n",
    "else:\n",
    "    print('number is not an even number')"
   ]
  },
  {
   "cell_type": "code",
   "execution_count": 5,
   "metadata": {},
   "outputs": [
    {
     "name": "stdout",
     "output_type": "stream",
     "text": [
      "Enter a number:56\n",
      "Enter a valid number\n"
     ]
    }
   ],
   "source": [
    "# test whether the given number is in between 10 to 20\n",
    "x = int(input('Enter a number:'))\n",
    "if x>=10 and x<=20:\n",
    "    print('number is in between 10 and 20')\n",
    "else:\n",
    "    print('Enter a valid number')\n",
    "    "
   ]
  },
  {
   "cell_type": "markdown",
   "metadata": {},
   "source": [
    "# if...elif...else statement:\n",
    "syntax:\n",
    "\n",
    "if condition1:\n",
    "\n",
    "    statements1\n",
    "   \n",
    "elif condition2:\n",
    "\n",
    "    statements2\n",
    "    \n",
    "elif condition3:\n",
    "\n",
    "    statements3\n",
    "    \n",
    "else:\n",
    "\n",
    "    statements5"
   ]
  },
  {
   "cell_type": "code",
   "execution_count": 9,
   "metadata": {},
   "outputs": [
    {
     "name": "stdout",
     "output_type": "stream",
     "text": [
      "enter a number:1098\n",
      "number is Positive\n"
     ]
    }
   ],
   "source": [
    "# test whether the given number is zero, negative, positive\n",
    "num = int(input('enter a number:'))\n",
    "if num==0:\n",
    "    print('number is zero')\n",
    "elif num<0:\n",
    "    print('number is Negative')\n",
    "else:\n",
    "    print('number is Positive')"
   ]
  },
  {
   "cell_type": "code",
   "execution_count": 5,
   "metadata": {},
   "outputs": [
    {
     "name": "stdout",
     "output_type": "stream",
     "text": [
      "Enter your name?Chandu\n",
      "Enter user name:Chandana6057@gmail.com\n",
      "Enter password:2766\n",
      "WelcomeChandu\n"
     ]
    }
   ],
   "source": [
    "# test whether the user name and password valid or not\n",
    "name = input('Enter your name?')\n",
    "user_name = 'Chandana6057@gmail.com'\n",
    "password = 2766\n",
    "username = input('Enter user name:')\n",
    "if user_name==username:\n",
    "    pass_word = int(input('Enter password:'))\n",
    "    if password==pass_word:\n",
    "        print('Welcome'+name)\n",
    "    else:\n",
    "        print('Enter correct password')\n",
    "else:\n",
    "    print('Enter correct username')"
   ]
  },
  {
   "cell_type": "markdown",
   "metadata": {},
   "source": [
    "# while loop\n",
    "- syntax:\n",
    "     \n",
    "     while condition:\n",
    "     \n",
    "          statements"
   ]
  },
  {
   "cell_type": "code",
   "execution_count": 2,
   "metadata": {},
   "outputs": [
    {
     "name": "stdout",
     "output_type": "stream",
     "text": [
      "1\n",
      "2\n",
      "3\n",
      "4\n",
      "5\n",
      "6\n",
      "7\n",
      "8\n",
      "9\n",
      "10\n",
      "end\n"
     ]
    }
   ],
   "source": [
    "x = 1\n",
    "while x<=10:\n",
    "    print(x)\n",
    "    x+=1\n",
    "print('end')"
   ]
  },
  {
   "cell_type": "markdown",
   "metadata": {},
   "source": [
    "# for loop\n",
    "- syntax:\n",
    "    \n",
    "    for var in sequence:\n",
    "    \n",
    "         statements"
   ]
  },
  {
   "cell_type": "code",
   "execution_count": 8,
   "metadata": {},
   "outputs": [
    {
     "name": "stdout",
     "output_type": "stream",
     "text": [
      "1\n",
      "3\n",
      "5\n",
      "7\n",
      "9\n"
     ]
    }
   ],
   "source": [
    "# display odd numbers in between 1 to 10\n",
    "for i in range(1,10,2):\n",
    "    print(i)"
   ]
  },
  {
   "cell_type": "code",
   "execution_count": 10,
   "metadata": {},
   "outputs": [
    {
     "name": "stdout",
     "output_type": "stream",
     "text": [
      "15,14,13,12,11,10,9,8,7,6,5,4,3,2,"
     ]
    }
   ],
   "source": [
    "#display numbers in reverse order from 1 to 15 in single line\n",
    "for i in range(15,1,-1):\n",
    "    print(i, end=',')"
   ]
  },
  {
   "cell_type": "code",
   "execution_count": 11,
   "metadata": {},
   "outputs": [
    {
     "name": "stdout",
     "output_type": "stream",
     "text": [
      "*\n",
      "**\n",
      "***\n",
      "****\n",
      "*****\n",
      "******\n",
      "*******\n",
      "********\n",
      "*********\n",
      "**********\n"
     ]
    }
   ],
   "source": [
    "# nested loops\n",
    "for i in range(1, 11):\n",
    "    for j in range(1, i+1):\n",
    "        print('*', end='')\n",
    "    print()\n",
    "        "
   ]
  },
  {
   "cell_type": "code",
   "execution_count": 12,
   "metadata": {},
   "outputs": [
    {
     "name": "stdout",
     "output_type": "stream",
     "text": [
      "*\n",
      "**\n",
      "***\n",
      "****\n"
     ]
    }
   ],
   "source": [
    " for i in range(1, 5):\n",
    "    for j in range(1, i+1):\n",
    "        print('*', end='')\n",
    "    print()"
   ]
  },
  {
   "cell_type": "code",
   "execution_count": 15,
   "metadata": {},
   "outputs": [
    {
     "name": "stdout",
     "output_type": "stream",
     "text": [
      "                                        * \n",
      "                                       * * \n",
      "                                      * * * \n",
      "                                     * * * * \n",
      "                                    * * * * * \n",
      "                                   * * * * * * \n",
      "                                  * * * * * * * \n",
      "                                 * * * * * * * * \n",
      "                                * * * * * * * * * \n",
      "                               * * * * * * * * * * \n"
     ]
    }
   ],
   "source": [
    "n = 40\n",
    "for i in range(1, 11):\n",
    "    print(' '*n, end='')\n",
    "    print('* '*(i))\n",
    "    n-=1"
   ]
  },
  {
   "cell_type": "code",
   "execution_count": 17,
   "metadata": {},
   "outputs": [
    {
     "name": "stdout",
     "output_type": "stream",
     "text": [
      "       1       2       3       4       5       6       7       8       9      10\n",
      "       2       4       6       8      10      12      14      16      18      20\n",
      "       3       6       9      12      15      18      21      24      27      30\n",
      "       4       8      12      16      20      24      28      32      36      40\n",
      "       5      10      15      20      25      30      35      40      45      50\n",
      "       6      12      18      24      30      36      42      48      54      60\n",
      "       7      14      21      28      35      42      49      56      63      70\n",
      "       8      16      24      32      40      48      56      64      72      80\n",
      "       9      18      27      36      45      54      63      72      81      90\n",
      "      10      20      30      40      50      60      70      80      90     100\n"
     ]
    }
   ],
   "source": [
    "for x in range(1, 11):\n",
    "    for y in range(1, 11):\n",
    "        print('{:8}'.format(x*y), end='')\n",
    "    print()"
   ]
  },
  {
   "cell_type": "markdown",
   "metadata": {},
   "source": [
    "# else suit:\n",
    "- we can use else statement with for & while loops\n",
    "### using else with for:\n",
    "\n",
    "     for(var in sequence):\n",
    "         statements\n",
    "     else:\n",
    "         statements\n",
    "### using else with while:\n",
    "\n",
    "    while(condition):\n",
    "       statements\n",
    "    else:\n",
    "       statements"
   ]
  },
  {
   "cell_type": "code",
   "execution_count": null,
   "metadata": {},
   "outputs": [],
   "source": []
  }
 ],
 "metadata": {
  "kernelspec": {
   "display_name": "Python 3",
   "language": "python",
   "name": "python3"
  },
  "language_info": {
   "codemirror_mode": {
    "name": "ipython",
    "version": 3
   },
   "file_extension": ".py",
   "mimetype": "text/x-python",
   "name": "python",
   "nbconvert_exporter": "python",
   "pygments_lexer": "ipython3",
   "version": "3.7.6"
  }
 },
 "nbformat": 4,
 "nbformat_minor": 4
}
